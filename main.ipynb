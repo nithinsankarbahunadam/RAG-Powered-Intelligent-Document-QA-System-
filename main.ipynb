{
 "cells": [
  {
   "cell_type": "code",
   "execution_count": 5,
   "id": "3ee46079",
   "metadata": {},
   "outputs": [
    {
     "data": {
      "text/plain": [
       "True"
      ]
     },
     "execution_count": 5,
     "metadata": {},
     "output_type": "execute_result"
    }
   ],
   "source": [
    "##Retrieval augumented generation with llamaindex and openai\n",
    "import os\n",
    "from dotenv import load_dotenv\n",
    "load_dotenv()"
   ]
  },
  {
   "cell_type": "code",
   "execution_count": null,
   "id": "399b63f9",
   "metadata": {},
   "outputs": [],
   "source": [
    "os.environ[\"OPENAI_API_KEY\"] = os.getenv(\"OPENAI_API_KEY\")"
   ]
  },
  {
   "cell_type": "code",
   "execution_count": 8,
   "id": "11949124",
   "metadata": {},
   "outputs": [],
   "source": [
    "from llama_index.core import VectorStoreIndex, SimpleDirectoryReader\n",
    "documents = SimpleDirectoryReader('data').load_data()\n"
   ]
  },
  {
   "cell_type": "code",
   "execution_count": 10,
   "id": "e668da93",
   "metadata": {},
   "outputs": [
    {
     "name": "stderr",
     "output_type": "stream",
     "text": [
      "c:\\Python_Testing\\rag-project\\ragenv\\lib\\site-packages\\tqdm\\auto.py:21: TqdmWarning: IProgress not found. Please update jupyter and ipywidgets. See https://ipywidgets.readthedocs.io/en/stable/user_install.html\n",
      "  from .autonotebook import tqdm as notebook_tqdm\n",
      "Parsing nodes: 100%|██████████| 854/854 [00:00<00:00, 3905.98it/s]\n",
      "Generating embeddings: 100%|██████████| 854/854 [00:12<00:00, 70.64it/s]\n"
     ]
    }
   ],
   "source": [
    "index= VectorStoreIndex.from_documents(documents, show_progress=True)"
   ]
  },
  {
   "cell_type": "code",
   "execution_count": 11,
   "id": "9f22afb0",
   "metadata": {},
   "outputs": [
    {
     "data": {
      "text/plain": [
       "<llama_index.core.indices.vector_store.base.VectorStoreIndex at 0x258b05db310>"
      ]
     },
     "execution_count": 11,
     "metadata": {},
     "output_type": "execute_result"
    }
   ],
   "source": [
    "index"
   ]
  },
  {
   "cell_type": "code",
   "execution_count": 12,
   "id": "6d6d0395",
   "metadata": {},
   "outputs": [],
   "source": [
    "query_engine = index.as_query_engine()"
   ]
  },
  {
   "cell_type": "code",
   "execution_count": 16,
   "id": "8e4a74e3",
   "metadata": {},
   "outputs": [],
   "source": [
    "response=query_engine.query(\"What is the Data Maturity?\")"
   ]
  },
  {
   "cell_type": "code",
   "execution_count": 18,
   "id": "923d3e25",
   "metadata": {},
   "outputs": [
    {
     "name": "stdout",
     "output_type": "stream",
     "text": [
      "The Data Maturity refers to the level of development and sophistication an organization has achieved in managing, utilizing, and deriving value from its data. It is a way to assess an organization's data management capabilities and readiness for advanced analytics, artificial intelligence, and other data-driven initiatives. Each stage of Data Maturity represents a progression in leveraging data for business value and decision-making.\n"
     ]
    }
   ],
   "source": [
    "print(response)"
   ]
  },
  {
   "cell_type": "code",
   "execution_count": 40,
   "id": "ae82b14e",
   "metadata": {},
   "outputs": [
    {
     "name": "stdout",
     "output_type": "stream",
     "text": [
      "A relational data warehouse is a centralized repository where large volumes of structured data from various sources are stored and managed for historical and trend analysis reporting. It is based on the relational model, organizing data into tables consisting of rows and columns. The purpose of a relational data warehouse is to enable better business decision-making by providing a unified, consistent view of the organization's data, known as the single version of truth (SVOT). This ensures that all users have access to the same accurate information, eliminating discrepancies and data silos.\n"
     ]
    }
   ],
   "source": [
    "response=query_engine.query(\"Relational Data Warehouse?\")\n",
    "print(response)"
   ]
  },
  {
   "cell_type": "code",
   "execution_count": 47,
   "id": "2151d637",
   "metadata": {},
   "outputs": [
    {
     "name": "stdout",
     "output_type": "stream",
     "text": [
      "Final Response: A relational data warehouse is a centralized\n",
      "repository where large volumes of structured data from various sources\n",
      "are stored and managed for historical and trend analysis reporting. It\n",
      "is based on the relational model, organizing data into tables\n",
      "consisting of rows and columns. The purpose of a relational data\n",
      "warehouse is to enable better business decision-making by providing a\n",
      "unified, consistent view of the organization's data, known as the\n",
      "single version of truth (SVOT). This ensures that all users have\n",
      "access to the same accurate information, eliminating discrepancies and\n",
      "data silos.\n",
      "______________________________________________________________________\n",
      "Source Node 1/4\n",
      "Node ID: 9cf63208-56c2-4a43-802f-d332672e9418\n",
      "Similarity: 0.8977204013314051\n",
      "Text: CHAPTER 4 The Relational Data Warehouse By the mid-2000s, I had\n",
      "used relational databases for years, but I had never been exposed to\n",
      "relational data warehouses. I was working as a database administrator\n",
      "(DBA) for a company that used an accounting software package to manage\n",
      "its finan‐ cial transactions. The reporting from the package was\n",
      "limited ...\n",
      "______________________________________________________________________\n",
      "Source Node 2/4\n",
      "Node ID: 4de3e9a5-e13e-4fc8-81a1-23403c9987f0\n",
      "Similarity: 0.8823345045639803\n",
      "Text: 2 A note on language: Y ou might see people refer to the\n",
      "relational data warehouse architecture as a traditional data\n",
      "warehouse. In this book, I mostly use relational data warehouse (RDW),\n",
      "sometimes shortening it to data warehouse. These terms all refer to\n",
      "the same thing. 3 RDW’s popularity increased thanks largely to both\n",
      "Barry Devlin and Bill ...\n",
      "______________________________________________________________________\n",
      "Source Node 3/4\n",
      "Node ID: 6a2238ac-71a8-4b7b-a263-7c152309e11e\n",
      "Similarity: 0.8782176953635499\n",
      "Text: Not all data warehouses are based on the relational model. Non-\n",
      "relational data ware‐ houses include types like columnar, NoSQL, and\n",
      "graph data warehouses. However, relational data warehouses are much\n",
      "more popular and widely adopted, primarily because relational\n",
      "databases have been the dominant data management paradigm for decades.\n",
      "The relational...\n",
      "______________________________________________________________________\n",
      "Source Node 4/4\n",
      "Node ID: 465bb94e-8cf1-451e-9169-cfcef02888ed\n",
      "Similarity: 0.8757133641055701\n",
      "Text: Summary This chapter covered the first widely used technology\n",
      "solution to centralize data from multiple sources and report on it:\n",
      "the relational data warehouse. The RDW revolu‐ tionized the way\n",
      "businesses and organizations manage their data by providing a cen‐\n",
      "tralized repository for data storage and retrieval, enabling more\n",
      "efficient data manag...\n"
     ]
    }
   ],
   "source": [
    "from llama_index.core.response.pprint_utils import pprint_response\n",
    "pprint_response(response, show_source=True)"
   ]
  },
  {
   "cell_type": "code",
   "execution_count": 48,
   "id": "1d016181",
   "metadata": {},
   "outputs": [],
   "source": [
    "from llama_index.core.retrievers import VectorIndexRetriever\n",
    "from llama_index.core.query_engine import RetrieverQueryEngine\n",
    "from llama_index.core.indices.postprocessor import SimilarityPostprocessor ##if you want to use get response with similarity score more than perticular threshold\n",
    "retriever = VectorIndexRetriever(index=index, similarity_top_k=4) ## You can change the number of top-k results to retrieve\n",
    "postprocessor = SimilarityPostprocessor(similarity_threshold=0.8)  # Optional: Set a similarity threshold for filtering results\n",
    "query_engine = RetrieverQueryEngine(retriever=retriever,\n",
    "                                    node_postprocessors=[postprocessor])"
   ]
  },
  {
   "cell_type": "code",
   "execution_count": 50,
   "id": "51148e0c",
   "metadata": {},
   "outputs": [
    {
     "name": "stderr",
     "output_type": "stream",
     "text": [
      "Parsing nodes: 100%|██████████| 854/854 [00:00<00:00, 4054.50it/s]\n",
      "Generating embeddings: 100%|██████████| 854/854 [00:12<00:00, 67.50it/s]\n"
     ]
    },
    {
     "name": "stdout",
     "output_type": "stream",
     "text": [
      "The Data Maturity refers to the level of development and sophistication an organization has achieved in managing, utilizing, and deriving value from its data. It is a model used to assess an organization's data management capabilities and readiness for advanced analytics, artificial intelligence, and other data-driven initiatives. Each stage of Data Maturity represents a progression in leveraging data for business value and decision-making.\n"
     ]
    }
   ],
   "source": [
    "import os.path\n",
    "from llama_index.core import (\n",
    "    VectorStoreIndex,\n",
    "    SimpleDirectoryReader,\n",
    "    StorageContext,\n",
    "    load_index_from_storage,\n",
    ")\n",
    "\n",
    "PERSIST_DIR = \"./storage\"\n",
    "if not os.path.exists(PERSIST_DIR):\n",
    "    #load documents from the data directory and create a index\n",
    "    documents = SimpleDirectoryReader('data').load_data()\n",
    "    index = VectorStoreIndex.from_documents(documents, show_progress=True)\n",
    "    #store it for later use\n",
    "    index.storage_context.persist(persist_dir=PERSIST_DIR)\n",
    "else:\n",
    "    #load the index from storage\n",
    "    storage_context = StorageContext.from_defaults(persist_dir=PERSIST_DIR)\n",
    "    index = load_index_from_storage(storage_context)\n",
    "\n",
    "#either way we can now query the index\n",
    "query_engine = index.as_query_engine()\n",
    "response = query_engine.query(\"What is the Data Maturity?\")\n",
    "print(response)"
   ]
  },
  {
   "cell_type": "code",
   "execution_count": null,
   "id": "977d1aa8",
   "metadata": {},
   "outputs": [],
   "source": []
  }
 ],
 "metadata": {
  "kernelspec": {
   "display_name": "Python 3",
   "language": "python",
   "name": "python3"
  },
  "language_info": {
   "codemirror_mode": {
    "name": "ipython",
    "version": 3
   },
   "file_extension": ".py",
   "mimetype": "text/x-python",
   "name": "python",
   "nbconvert_exporter": "python",
   "pygments_lexer": "ipython3",
   "version": "3.10.17"
  }
 },
 "nbformat": 4,
 "nbformat_minor": 5
}
